{
 "cells": [
  {
   "cell_type": "markdown",
   "metadata": {},
   "source": [
    "### Initializing pymc3"
   ]
  },
  {
   "cell_type": "code",
   "execution_count": 343,
   "metadata": {},
   "outputs": [
    {
     "name": "stdout",
     "output_type": "stream",
     "text": [
      "Running on PyMC3 v3.3\n"
     ]
    }
   ],
   "source": [
    "import pymc3 as pm\n",
    "import numpy as np\n",
    "import matplotlib.pyplot as plt\n",
    "import math\n",
    "from pymc3 import sample_ppc\n",
    "from pymc3.plots import plot_posterior\n",
    "from scipy.stats import multivariate_normal, poisson, norm, invgamma\n",
    "from seaborn import kdeplot\n",
    "\n",
    "print('Running on PyMC3 v{}'.format(pm.__version__))"
   ]
  },
  {
   "cell_type": "markdown",
   "metadata": {},
   "source": [
    "### Specifying training data"
   ]
  },
  {
   "cell_type": "code",
   "execution_count": 344,
   "metadata": {},
   "outputs": [],
   "source": [
    "#X Data\n",
    "trt = np.array([0, 0, 0, 0, 0, 0, 0, 0, 0, 0, 0, 0, 0, 0, 0, 0, 0, \n",
    "       0, 0, 0, 0, 0, 0, 0, 0, 0, 0, 0, 1, 1, 1, 1, 1, 1, 1, 1, 1, 1, 1, 1, 1, 1,\n",
    "       1, 1, 1, 1, 1, 1, 1, 1, 1, 1, 1, 1, 1, 1, 1, 1, 1])\n",
    "\n",
    "base = np.array([11, 11, 6, 8, 66, 27, 12, 52, 23, 10, 52, 33, 18,\n",
    "                 42, 87, 50, 18, 111, 18, 20, 12, 9, 17, 28, 55, 9, 10, 47, 76, 38, 19, 10,\n",
    "                 19, 24, 31, 14, 11, 67, 41, 7, 22, 13, 46, 36, 38, 7, 36, 11, 151, 22, 41,\n",
    "                 32, 56, 24, 16, 22, 25, 13, 12])\n",
    "age = np.array([31, 30, 25, 36, 22, 29, 31, 42, 37, 28, 36, 24, 23,\n",
    "                36, 26, 26, 28, 31, 32,21, 29, 21, 32, 25, 30, 40,\n",
    "                19, 22, 18, 32, 20, 30, 18, 24, 30, 35, 27, 20,22,\n",
    "                28, 23, 40, 33, 21, 35, 25, 26, 25, 22, 32, 25,35, 21, 41, 32, 26, 21, 36, 37])\n",
    "\n",
    "v4 = np.array([0,0,0,1])\n",
    "\n",
    "#Y data\n",
    "y = np.array([[5,3,3,3],[3,5,3,3],[2,4,0,5],[4,4,1,4],[7,18,9,21],[5,2,8,7],[6,4,0,2],[40,20,21,12],[5,6,6,5],\n",
    "   [14,13,6,0],[26,12,6,22],[12,6,8,4],[4,4,6,2],[7,9,12,14],[16,24,10,9],[11,0,0,5],[0,0,3,3],[37,29,28,29],\n",
    "   [3,5,2,5],[3,0,6,7],[3,4,3,4],[3,4,3,4],[2,3,3,5],[8,12,2,8],[18,24,76,25],[2,1,2,1],[3,1,4,2],\n",
    "   [13,15,13,12],[11,14,9,8],[8,7,9,4],[0,4,3,0],[3,6,1,3],[2,6,7,4],[4,3,1,3],[22,17,19,16],\n",
    "   [5,4,7,4],[2,4,0,4],[3,7,7,7],[4,18,2,5],[2,1,1,0],[0,2,4,0],[5,4,0,3],[11,14,25,15],[10,5,3,8],\n",
    "   [19,7,6,7],[1,1,2,3],[6,10,8,8],[2,1,0,0],[102,65,72,63],[4,3,2,4],[8,6,5,7],[1,3,1,5],[18,11,28,13],\n",
    "   [6,3,4,0],[3,5,4,3],[1,23,19,8],[2,3,0,1],[0,0,0,0],[1,4,3,2]])\n",
    "\n",
    "data_size = len(age)\n",
    "days = 4"
   ]
  },
  {
   "cell_type": "markdown",
   "metadata": {},
   "source": [
    "### Preprocessing"
   ]
  },
  {
   "cell_type": "code",
   "execution_count": 345,
   "metadata": {},
   "outputs": [
    {
     "name": "stdout",
     "output_type": "stream",
     "text": [
      "(59, 4) (59, 4) (59, 4) (59, 4)\n"
     ]
    }
   ],
   "source": [
    "#augment data to have same dimensions\n",
    "trt = trt.reshape(-1,1)\n",
    "trt = np.tile(trt,(1,4))\n",
    "\n",
    "base = base.reshape(-1,1)\n",
    "base = np.tile(base,(1,4))\n",
    "\n",
    "age = age.reshape(-1,1)\n",
    "age = np.tile(age,(1,4))\n",
    "\n",
    "v4 = v4.reshape(-1,1)\n",
    "v4 = np.tile(v4,(1,59)).T\n",
    "\n",
    "print(trt.shape,base.shape,age.shape,v4.shape)"
   ]
  },
  {
   "cell_type": "markdown",
   "metadata": {},
   "source": [
    "### Specifying the model"
   ]
  },
  {
   "cell_type": "code",
   "execution_count": 346,
   "metadata": {},
   "outputs": [],
   "source": [
    "#Creating the model\n",
    "\n",
    "model = pm.Model()\n",
    "\n",
    "with model:\n",
    "    #priors\n",
    "    \n",
    "    var_b  = pm.InverseGamma('var_b',1,1)\n",
    "    var_b1 = pm.InverseGamma('var_b1',1,1)\n",
    "    \n",
    "    a_base = pm.Normal('alpha_base',mu=0,sd=100)\n",
    "    a_trt = pm.Normal('alpha_trt',mu=0,sd=100)\n",
    "    a_bt = pm.Normal('alpha_bt',mu=0,sd=100)\n",
    "    a_age = pm.Normal('alpha_age',mu=0,sd=100)\n",
    "    a_v4 = pm.Normal('alpha_v4',mu=0,sd=100)\n",
    "    a_not = pm.Normal('alpha_not',mu=0,sd=100)\n",
    "    \n",
    "    b1 = pm.Normal('b1',mu=0,sd=np.sqrt(var_b1))\n",
    "    b = pm.Normal('b',mu=0,sd=np.sqrt(var_b))\n",
    "    \n",
    "    #expected value of parameter mu\n",
    "   # log_mu = a_not + (a_base * np.log(base/4)) + (a_trt * trt) + (a_bt * trt * np.log(base/4)) \\\n",
    "   #             + (a_age * np.log(age)) + b1\n",
    "    log_mu = a_not + (a_v4*v4) + (a_base * np.log(base/4)) + (a_trt * trt) + (a_bt * trt * np.log(base/4)) + (a_age * np.log(age)) + b1 + b\n",
    "\n",
    "    mu = np.exp(log_mu)\n",
    "    #likelihood\n",
    "    Y_obs = pm.Poisson('Y_obs',mu,observed=y)"
   ]
  },
  {
   "cell_type": "markdown",
   "metadata": {},
   "source": [
    "### Run built in MCMC"
   ]
  },
  {
   "cell_type": "code",
   "execution_count": null,
   "metadata": {},
   "outputs": [],
   "source": [
    "#get the posterior \n",
    "with model:\n",
    "    step = pm.Metropolis()\n",
    "    trace = pm.sample(500,step)"
   ]
  },
  {
   "cell_type": "code",
   "execution_count": null,
   "metadata": {},
   "outputs": [],
   "source": [
    "pm.summary(trace)"
   ]
  },
  {
   "cell_type": "code",
   "execution_count": null,
   "metadata": {},
   "outputs": [],
   "source": [
    "_ = pm.traceplot(trace)"
   ]
  },
  {
   "cell_type": "code",
   "execution_count": null,
   "metadata": {},
   "outputs": [],
   "source": [
    "ppc = sample_ppc(trace, model=model, samples=500)"
   ]
  },
  {
   "cell_type": "code",
   "execution_count": null,
   "metadata": {},
   "outputs": [],
   "source": [
    "predictions = ppc['Y_obs']\n",
    "\n",
    "#get the mean and variance of the predictions\n",
    "mean_preds = np.mean(predictions,axis=0)\n",
    "var_preds =  np.var(predictions,axis=0)\n",
    "\n",
    "mse_loss = np.sum((y - mean_preds) ** 2) / (59 * 4.0)\n",
    "\n",
    "print('MSE loss: ',mse_loss)\n",
    "print('True Values: ',y)\n",
    "print('Mean predictions: ',mean_preds)\n",
    "print('Variance of predictions: ',var_preds)"
   ]
  },
  {
   "cell_type": "markdown",
   "metadata": {},
   "source": [
    "## Own Implementation"
   ]
  },
  {
   "cell_type": "code",
   "execution_count": null,
   "metadata": {},
   "outputs": [],
   "source": [
    "def find_likelihood(theta):\n",
    "    \n",
    "    a_not = theta[0]\n",
    "    a_base = theta[1]\n",
    "    a_trt = theta[2]\n",
    "    a_bt = theta[3]\n",
    "    a_age = theta[4]\n",
    "    a_v4 = theta[5]\n",
    "    var_b1 = abs(theta[6])\n",
    "    var_b = abs(theta[7])\n",
    "    \n",
    "    b1 = norm.rvs(0,np.sqrt(var_b1),size=1)\n",
    "    b = norm.rvs(0,np.sqrt(var_b),size=1)\n",
    "    \n",
    "    log_mu = a_not + (a_v4*v4) + (a_base* np.log(base/4)) + (a_trt * trt) + (a_bt * trt * np.log(base/4)) + (a_age * np.log(age)) + b1 + b\n",
    "    mu = np.exp(log_mu)\n",
    "    \n",
    "    mu = mu.flatten()\n",
    "    ypred = y.flatten()\n",
    "    #print(mu,ypred)\n",
    "    #print(poisson.pmf(ypred,mu).shape)\n",
    "    likelihood  = np.sum(poisson.pmf(ypred,mu))\n",
    "    \n",
    "    return likelihood\n",
    "\n",
    "def find_prior(theta,prior_params):\n",
    "    \n",
    "    a_not = theta[0]\n",
    "    a_base = theta[1]\n",
    "    a_trt = theta[2]\n",
    "    a_bt = theta[3]\n",
    "    a_age = theta[4]\n",
    "    a_v4 = theta[5]\n",
    "    var_b1 = theta[6]\n",
    "    var_b = theta[7]\n",
    "    \n",
    "    prior_anot = norm(prior_params['a_mu'],prior_params['a_sd']).pdf(a_not)\n",
    "    prior_abase = norm(prior_params['a_mu'],prior_params['a_sd']).pdf(a_base)\n",
    "    prior_atrt = norm(prior_params['a_mu'],prior_params['a_sd']).pdf(a_trt)\n",
    "    prior_abt = norm(prior_params['a_mu'],prior_params['a_sd']).pdf(a_bt)\n",
    "    prior_age = norm(prior_params['a_mu'],prior_params['a_sd']).pdf(a_age)\n",
    "    prior_av4 = norm(prior_params['a_mu'],prior_params['a_sd']).pdf(a_v4)\n",
    "    \n",
    "    prior_varb1 = invgamma(a=prior_params['var_b'],scale=prior_params['var_b']).pdf(var_b1)\n",
    "    prior_varb = invgamma(a=prior_params['var_b'],scale=prior_params['var_b']).pdf(var_b)\n",
    "    \n",
    "    cumulative_prior = prior_anot * prior_abase * prior_atrt * prior_abt * \\\n",
    "            prior_age * prior_av4 * prior_varb * prior_varb1\n",
    "    #print(prior_b,prior_b1)\n",
    "    return cumulative_prior\n",
    "    \n",
    "    "
   ]
  },
  {
   "cell_type": "code",
   "execution_count": null,
   "metadata": {},
   "outputs": [],
   "source": [
    "def tune(scale, acc_rate):\n",
    "    \"\"\"\n",
    "    Tunes the scaling parameter for the proposal distribution\n",
    "    according to the acceptance rate over the last tune_interval:\n",
    "    Rate    Variance adaptation\n",
    "    ----    -------------------\n",
    "    <0.001        x 0.1\n",
    "    <0.05         x 0.5\n",
    "    <0.2          x 0.9\n",
    "    >0.5          x 1.1\n",
    "    >0.75         x 2\n",
    "    >0.95         x 10\n",
    "    \"\"\"\n",
    "\n",
    "    # Switch statement\n",
    "    if acc_rate < 0.001:\n",
    "        # reduce by 90 percent\n",
    "        scale *= 0.1\n",
    "    elif acc_rate < 0.05:\n",
    "        # reduce by 50 percent\n",
    "        scale *= 0.5\n",
    "    elif acc_rate < 0.2:\n",
    "        # reduce by ten percent\n",
    "        scale *= 0.9\n",
    "    elif acc_rate > 0.95:\n",
    "        # increase by factor of ten\n",
    "        scale *= 10.0\n",
    "    elif acc_rate > 0.75:\n",
    "        # increase by double\n",
    "        scale *= 2\n",
    "    elif acc_rate > 0.5:\n",
    "        # increase by ten percent\n",
    "        scale *= 1.1\n",
    "\n",
    "    return scale"
   ]
  },
  {
   "cell_type": "code",
   "execution_count": null,
   "metadata": {},
   "outputs": [],
   "source": [
    "def mcmc_mh(prior_params,samples=10,interval=10,proposal_width=1):\n",
    "    \n",
    "    #initial parameters\n",
    "    #in this order : a_not,a_base,a_trt,a_bt,a_age,a_v4,b1,b,var_b1,var_b\n",
    "    theta_current = np.ones(8)\n",
    "    #print(theta_current)\n",
    "    posterior = [theta_current]\n",
    "    \n",
    "    \n",
    "    accepted = 0\n",
    "    \n",
    "    interval_size = interval\n",
    "    \n",
    "    for i in range(samples-1):\n",
    "        \n",
    "        if i % interval_size == 0:\n",
    "            proposal_width = tune(proposal_width,accepted/float(interval_size))\n",
    "            accepted = 0\n",
    "            print('proposal width: ',proposal_width)\n",
    "        \n",
    "        #proposal parameters\n",
    "        theta_proposal = multivariate_normal(mean=theta_current,cov=proposal_width).rvs()\n",
    "\n",
    "        #find likelihoods\n",
    "        likelihood_current = find_likelihood(theta_current)\n",
    "        likelihood_proposal = find_likelihood(theta_proposal)\n",
    "        \n",
    "        #prior probability of current and proposed\n",
    "        prior_current = find_prior(theta_current,prior_params)\n",
    "        prior_proposal = find_prior(theta_proposal,prior_params)\n",
    "        \n",
    "        # p(z hat)\n",
    "        p_current = likelihood_current * prior_current\n",
    "        p_proposal = likelihood_proposal * prior_proposal\n",
    "        \n",
    "        p_accept = p_proposal / p_current\n",
    "        print(p_accept)\n",
    "        accept = np.random.rand() < p_accept\n",
    "        \n",
    "        if accept: \n",
    "            theta_current = theta_proposal\n",
    "            accepted += 1\n",
    "            #print('changed')\n",
    "            \n",
    "        posterior.append(theta_current)\n",
    "        \n",
    "        \n",
    "    posterior = np.array(posterior)    \n",
    "    return posterior"
   ]
  },
  {
   "cell_type": "code",
   "execution_count": null,
   "metadata": {},
   "outputs": [],
   "source": [
    "prior_params = {\n",
    "    'a_mu' : 0,\n",
    "    'a_sd' : 100,\n",
    "    'var_b' : 1\n",
    "}\n",
    "\n",
    "my_trace = mcmc_mh(prior_params,interval=100,samples=500)\n",
    "print(my_trace.mean(axis=0))"
   ]
  },
  {
   "cell_type": "code",
   "execution_count": null,
   "metadata": {},
   "outputs": [],
   "source": [
    "def plot(trace):\n",
    "    f, axarr = plt.subplots(len(trace.keys()), 2,figsize=(15,30))\n",
    "    for i,key in enumerate(trace.keys()):\n",
    "        values = trace[key]\n",
    "        kdeplot(values, ax=axarr[i,0])\n",
    "        axarr[i,0].set_title(key)\n",
    "        axarr[i,0].set_ylabel('Frequency')\n",
    "        axarr[i,1].plot(values)\n",
    "        axarr[i,1].set_title(key)\n",
    "        axarr[i,1].set_ylabel('Sample value')\n",
    "        "
   ]
  },
  {
   "cell_type": "code",
   "execution_count": null,
   "metadata": {},
   "outputs": [],
   "source": [
    "trace_dict = {}\n",
    "trace_dict['alpha_not'] = my_trace[:,0]\n",
    "trace_dict['alpha_base'] = my_trace[:,1]\n",
    "trace_dict['alpha_trt'] = my_trace[:,2]\n",
    "trace_dict['alpha_age'] = my_trace[:,3]\n",
    "trace_dict['alpha_bt'] = my_trace[:,4]\n",
    "trace_dict['alpha_v4'] = my_trace[:,5]\n",
    "trace_dict['var_b1'] = my_trace[:,6]\n",
    "trace_dict['var_b'] = my_trace[:,7]\n",
    "\n",
    "plot(trace_dict)"
   ]
  },
  {
   "cell_type": "code",
   "execution_count": null,
   "metadata": {},
   "outputs": [],
   "source": [
    "def predict(theta):\n",
    "    a_not = theta[0]\n",
    "    a_base = theta[1]\n",
    "    a_trt = theta[2]\n",
    "    a_bt = theta[3]\n",
    "    a_age = theta[4]\n",
    "    a_v4 = theta[5]\n",
    "    var_b1 = abs(theta[6])\n",
    "    var_b = abs(theta[7])\n",
    "    \n",
    "    b1 = norm.rvs(0,np.sqrt(var_b1),size=1)\n",
    "    b = norm.rvs(0,np.sqrt(var_b),size=1)\n",
    "    \n",
    "    log_mu = a_not + (a_v4*v4) + (a_base* np.log(base/4)) + (a_trt * trt) + (a_bt * trt * np.log(base/4)) + (a_age * np.log(age)) + b1 + b\n",
    "    mu = np.exp(log_mu)\n",
    "    \n",
    "    pred = poisson.rvs(mu)\n",
    "    return pred\n",
    "\n",
    "def get_ppc(trace,samples=50,size=10):\n",
    "    \n",
    "    #sample parameters from the trace\n",
    "    trace_len = trace.shape[0]\n",
    "    rand_indexes = np.random.randint(0,trace_len,size=samples)\n",
    "    \n",
    "    #sampled parameters\n",
    "    params = trace[rand_indexes]\n",
    "    \n",
    "    #predictions \n",
    "    predictions = []\n",
    "    for p in params:\n",
    "        #generate 'size' samples for each parameter setting:\n",
    "        for i in range(size):\n",
    "            y = predict(p)\n",
    "            predictions.append(y)\n",
    "    \n",
    "    predictions = np.array(predictions)\n",
    "    return predictions"
   ]
  },
  {
   "cell_type": "code",
   "execution_count": null,
   "metadata": {},
   "outputs": [],
   "source": [
    "preds = get_ppc(my_trace)\n",
    "preds.shape"
   ]
  },
  {
   "cell_type": "code",
   "execution_count": null,
   "metadata": {},
   "outputs": [],
   "source": [
    "preds.mean(axis=0)"
   ]
  },
  {
   "cell_type": "code",
   "execution_count": null,
   "metadata": {},
   "outputs": [],
   "source": []
  }
 ],
 "metadata": {
  "kernelspec": {
   "display_name": "Python 3",
   "language": "python",
   "name": "python3"
  },
  "language_info": {
   "codemirror_mode": {
    "name": "ipython",
    "version": 3
   },
   "file_extension": ".py",
   "mimetype": "text/x-python",
   "name": "python",
   "nbconvert_exporter": "python",
   "pygments_lexer": "ipython3",
   "version": "3.6.4"
  }
 },
 "nbformat": 4,
 "nbformat_minor": 2
}
